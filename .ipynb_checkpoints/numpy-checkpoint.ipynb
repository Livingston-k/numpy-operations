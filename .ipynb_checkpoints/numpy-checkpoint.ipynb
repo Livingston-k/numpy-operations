{
 "cells": [
  {
   "cell_type": "code",
   "execution_count": 9,
   "id": "16535503-0a51-45c4-b46d-5421787b2b3c",
   "metadata": {
    "tags": []
   },
   "outputs": [],
   "source": [
    "import numpy as np"
   ]
  },
  {
   "cell_type": "code",
   "execution_count": 11,
   "id": "9265ab7c-6660-442f-9a2b-077c22a85c60",
   "metadata": {
    "tags": []
   },
   "outputs": [],
   "source": [
    "a =  np.array([1,4,5,4])"
   ]
  },
  {
   "cell_type": "code",
   "execution_count": 12,
   "id": "eac80d27-2233-4216-ab60-876182cf27ff",
   "metadata": {
    "tags": []
   },
   "outputs": [
    {
     "data": {
      "text/plain": [
       "array([0.5, 2. , 2.5, 2. ])"
      ]
     },
     "execution_count": 12,
     "metadata": {},
     "output_type": "execute_result"
    }
   ],
   "source": [
    "a/2"
   ]
  },
  {
   "cell_type": "code",
   "execution_count": null,
   "id": "2ca3e8e1-6e48-4f9a-b017-a89e82cf8c2e",
   "metadata": {},
   "outputs": [],
   "source": [
    "np.random.rand(2,3,4)"
   ]
  }
 ],
 "metadata": {
  "kernelspec": {
   "display_name": "Python 3 (ipykernel)",
   "language": "python",
   "name": "python3"
  },
  "language_info": {
   "codemirror_mode": {
    "name": "ipython",
    "version": 3
   },
   "file_extension": ".py",
   "mimetype": "text/x-python",
   "name": "python",
   "nbconvert_exporter": "python",
   "pygments_lexer": "ipython3",
   "version": "3.10.10"
  }
 },
 "nbformat": 4,
 "nbformat_minor": 5
}
