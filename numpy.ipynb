{
 "cells": [
  {
   "cell_type": "code",
   "execution_count": 9,
   "id": "16535503-0a51-45c4-b46d-5421787b2b3c",
   "metadata": {
    "tags": []
   },
   "outputs": [],
   "source": [
    "import numpy as np"
   ]
  },
  {
   "cell_type": "code",
   "execution_count": 11,
   "id": "9265ab7c-6660-442f-9a2b-077c22a85c60",
   "metadata": {
    "tags": []
   },
   "outputs": [],
   "source": [
    "a =  np.array([1,4,5,4])"
   ]
  },
  {
   "cell_type": "code",
   "execution_count": 12,
   "id": "eac80d27-2233-4216-ab60-876182cf27ff",
   "metadata": {
    "tags": []
   },
   "outputs": [
    {
     "data": {
      "text/plain": [
       "array([0.5, 2. , 2.5, 2. ])"
      ]
     },
     "execution_count": 12,
     "metadata": {},
     "output_type": "execute_result"
    }
   ],
   "source": [
    "a/2"
   ]
  },
  {
   "cell_type": "code",
   "execution_count": 14,
   "id": "2ca3e8e1-6e48-4f9a-b017-a89e82cf8c2e",
   "metadata": {
    "tags": []
   },
   "outputs": [],
   "source": [
    "data = np.random.rand(2,3,4)"
   ]
  },
  {
   "cell_type": "code",
   "execution_count": 15,
   "id": "a8badffa-3119-44f9-9e5e-0c85d11dc0a2",
   "metadata": {
    "tags": []
   },
   "outputs": [
    {
     "data": {
      "text/plain": [
       "array([[[0.21675562, 0.25290502, 0.03879124, 0.61651856],\n",
       "        [0.38384585, 0.81690871, 0.307541  , 0.92890789],\n",
       "        [0.48318631, 0.26123806, 0.41978841, 0.74999184]],\n",
       "\n",
       "       [[0.14940719, 0.1871922 , 0.34679733, 0.69464895],\n",
       "        [0.78854706, 0.17847755, 0.95684813, 0.62614104],\n",
       "        [0.45019101, 0.89487303, 0.32307602, 0.22104081]]])"
      ]
     },
     "execution_count": 15,
     "metadata": {},
     "output_type": "execute_result"
    }
   ],
   "source": [
    "data"
   ]
  },
  {
   "cell_type": "code",
   "execution_count": 17,
   "id": "804a00ff-91af-4cbb-b0ca-88a908f6867c",
   "metadata": {
    "tags": []
   },
   "outputs": [],
   "source": [
    "z = np.zeros((2,2,2))"
   ]
  },
  {
   "cell_type": "code",
   "execution_count": 20,
   "id": "a6f04d8e-c8a9-4e91-97f7-8cc1fdbf85ea",
   "metadata": {
    "tags": []
   },
   "outputs": [
    {
     "data": {
      "text/plain": [
       "array([[[0., 0.],\n",
       "        [0., 0.]],\n",
       "\n",
       "       [[0., 0.],\n",
       "        [0., 0.]]])"
      ]
     },
     "execution_count": 20,
     "metadata": {},
     "output_type": "execute_result"
    }
   ],
   "source": [
    "z"
   ]
  },
  {
   "cell_type": "code",
   "execution_count": 22,
   "id": "30d04cc6-0f9a-4463-bb6c-23e1c13adb1d",
   "metadata": {
    "tags": []
   },
   "outputs": [],
   "source": [
    "f = np.full((2,2,2),7)"
   ]
  },
  {
   "cell_type": "code",
   "execution_count": 23,
   "id": "eaaa0486-fbcf-4e3a-95fd-4be3d4a3e64f",
   "metadata": {
    "tags": []
   },
   "outputs": [
    {
     "data": {
      "text/plain": [
       "array([[[7, 7],\n",
       "        [7, 7]],\n",
       "\n",
       "       [[7, 7],\n",
       "        [7, 7]]])"
      ]
     },
     "execution_count": 23,
     "metadata": {},
     "output_type": "execute_result"
    }
   ],
   "source": [
    "f"
   ]
  },
  {
   "cell_type": "code",
   "execution_count": 24,
   "id": "387b5cb3-48e8-48e3-80cd-130b5c089a9e",
   "metadata": {
    "tags": []
   },
   "outputs": [],
   "source": [
    "o = np.ones((2,2,2))"
   ]
  },
  {
   "cell_type": "code",
   "execution_count": 28,
   "id": "6e1f490f-ef4d-4c12-8e39-79d404124eed",
   "metadata": {
    "tags": []
   },
   "outputs": [
    {
     "data": {
      "text/plain": [
       "array([[[1., 1.],\n",
       "        [1., 1.]],\n",
       "\n",
       "       [[1., 1.],\n",
       "        [1., 1.]]])"
      ]
     },
     "execution_count": 28,
     "metadata": {},
     "output_type": "execute_result"
    }
   ],
   "source": [
    "o"
   ]
  },
  {
   "cell_type": "code",
   "execution_count": 30,
   "id": "e82dfe4e-121c-44d8-a504-644f082be954",
   "metadata": {
    "tags": []
   },
   "outputs": [],
   "source": [
    "# basic math\n",
    "list1 = np.random.rand(10)\n",
    "list2 = np.random.rand(10)\n"
   ]
  },
  {
   "cell_type": "code",
   "execution_count": 31,
   "id": "c57299c5-2704-41f6-a07a-58e905840c77",
   "metadata": {
    "tags": []
   },
   "outputs": [
    {
     "data": {
      "text/plain": [
       "array([0.20804133, 0.18837674, 0.01201319, 0.42727652, 0.13844607,\n",
       "       0.65937904, 0.83562196, 0.39821791, 0.00308637, 0.38699446])"
      ]
     },
     "execution_count": 31,
     "metadata": {},
     "output_type": "execute_result"
    }
   ],
   "source": [
    "list1"
   ]
  },
  {
   "cell_type": "code",
   "execution_count": 32,
   "id": "03b96e03-49a5-4274-ba10-70b9d2599cb0",
   "metadata": {
    "tags": []
   },
   "outputs": [
    {
     "data": {
      "text/plain": [
       "array([0.78293132, 0.52713334, 0.61479104, 0.96897232, 0.03837286,\n",
       "       0.66876434, 0.42226605, 0.08945909, 0.1572423 , 0.42649826])"
      ]
     },
     "execution_count": 32,
     "metadata": {},
     "output_type": "execute_result"
    }
   ],
   "source": [
    "list2"
   ]
  },
  {
   "cell_type": "code",
   "execution_count": 38,
   "id": "2bc28616-a4d6-46f2-9ae2-dcf0b2c91eca",
   "metadata": {
    "tags": []
   },
   "outputs": [],
   "source": [
    "# basic math array operations\n",
    "add = np.add(list1,list2)\n",
    "sub = np.subtract(list1,list2)\n",
    "div = np.divide(list1,list2)\n",
    "mul = np.multiply(list1,list2)\n",
    "dot = np.dot(list1,list2)"
   ]
  },
  {
   "cell_type": "code",
   "execution_count": 34,
   "id": "c6e69106-168c-48c8-9eda-3b7475f826ec",
   "metadata": {
    "tags": []
   },
   "outputs": [
    {
     "data": {
      "text/plain": [
       "array([0.99097265, 0.71551008, 0.62680423, 1.39624884, 0.17681893,\n",
       "       1.32814338, 1.25788801, 0.487677  , 0.16032867, 0.81349272])"
      ]
     },
     "execution_count": 34,
     "metadata": {},
     "output_type": "execute_result"
    }
   ],
   "source": [
    "add"
   ]
  },
  {
   "cell_type": "code",
   "execution_count": 35,
   "id": "425b765e-fcab-4160-a38b-17c56653506b",
   "metadata": {
    "tags": []
   },
   "outputs": [
    {
     "data": {
      "text/plain": [
       "array([-0.57488999, -0.3387566 , -0.60277784, -0.5416958 ,  0.1000732 ,\n",
       "       -0.0093853 ,  0.41335592,  0.30875882, -0.15415593, -0.0395038 ])"
      ]
     },
     "execution_count": 35,
     "metadata": {},
     "output_type": "execute_result"
    }
   ],
   "source": [
    "sub"
   ]
  },
  {
   "cell_type": "code",
   "execution_count": 36,
   "id": "62569548-3a2b-41f2-9867-17a17a1cb33d",
   "metadata": {
    "tags": []
   },
   "outputs": [
    {
     "data": {
      "text/plain": [
       "array([0.26572105, 0.3573607 , 0.01954029, 0.44095844, 3.60791595,\n",
       "       0.9859662 , 1.97889925, 4.45139689, 0.0196281 , 0.90737642])"
      ]
     },
     "execution_count": 36,
     "metadata": {},
     "output_type": "execute_result"
    }
   ],
   "source": [
    "div"
   ]
  },
  {
   "cell_type": "code",
   "execution_count": 37,
   "id": "28ab9a5e-7ac3-434a-a175-45c50e93fe1b",
   "metadata": {
    "tags": []
   },
   "outputs": [
    {
     "data": {
      "text/plain": [
       "array([0.16288208, 0.09929966, 0.0073856 , 0.41401912, 0.00531257,\n",
       "       0.44096919, 0.35285478, 0.03562421, 0.00048531, 0.16505247])"
      ]
     },
     "execution_count": 37,
     "metadata": {},
     "output_type": "execute_result"
    }
   ],
   "source": [
    "mul"
   ]
  },
  {
   "cell_type": "code",
   "execution_count": 39,
   "id": "13da272c-1d9e-436f-b52e-744b7eaec32a",
   "metadata": {
    "tags": []
   },
   "outputs": [
    {
     "data": {
      "text/plain": [
       "1.6838849856244968"
      ]
     },
     "execution_count": 39,
     "metadata": {},
     "output_type": "execute_result"
    }
   ],
   "source": [
    "dot"
   ]
  },
  {
   "cell_type": "code",
   "execution_count": null,
   "id": "08a88f6f-e8b2-4805-b081-8f10cb759165",
   "metadata": {},
   "outputs": [],
   "source": []
  }
 ],
 "metadata": {
  "kernelspec": {
   "display_name": "Python 3 (ipykernel)",
   "language": "python",
   "name": "python3"
  },
  "language_info": {
   "codemirror_mode": {
    "name": "ipython",
    "version": 3
   },
   "file_extension": ".py",
   "mimetype": "text/x-python",
   "name": "python",
   "nbconvert_exporter": "python",
   "pygments_lexer": "ipython3",
   "version": "3.10.10"
  }
 },
 "nbformat": 4,
 "nbformat_minor": 5
}
