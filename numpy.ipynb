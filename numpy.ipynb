{
 "cells": [
  {
   "cell_type": "code",
   "execution_count": 2,
   "id": "16535503-0a51-45c4-b46d-5421787b2b3c",
   "metadata": {
    "tags": []
   },
   "outputs": [],
   "source": [
    "import numpy as np"
   ]
  },
  {
   "cell_type": "code",
   "execution_count": 3,
   "id": "9265ab7c-6660-442f-9a2b-077c22a85c60",
   "metadata": {
    "tags": []
   },
   "outputs": [],
   "source": [
    "a =  np.array([1,4,5,4])"
   ]
  },
  {
   "cell_type": "code",
   "execution_count": 4,
   "id": "eac80d27-2233-4216-ab60-876182cf27ff",
   "metadata": {
    "tags": []
   },
   "outputs": [
    {
     "data": {
      "text/plain": [
       "array([0.5, 2. , 2.5, 2. ])"
      ]
     },
     "execution_count": 4,
     "metadata": {},
     "output_type": "execute_result"
    }
   ],
   "source": [
    "a/2"
   ]
  },
  {
   "cell_type": "code",
   "execution_count": 5,
   "id": "2ca3e8e1-6e48-4f9a-b017-a89e82cf8c2e",
   "metadata": {
    "tags": []
   },
   "outputs": [],
   "source": [
    "data = np.random.rand(2,3,4)"
   ]
  },
  {
   "cell_type": "code",
   "execution_count": 7,
   "id": "a8badffa-3119-44f9-9e5e-0c85d11dc0a2",
   "metadata": {
    "tags": []
   },
   "outputs": [
    {
     "data": {
      "text/plain": [
       "array([[[0.55372609, 0.62082996, 0.06940302, 0.33901305],\n",
       "        [0.0172093 , 0.39294701, 0.68539559, 0.64236089],\n",
       "        [0.96245637, 0.46921203, 0.24371955, 0.47952455]],\n",
       "\n",
       "       [[0.06203604, 0.66140137, 0.78081748, 0.91909724],\n",
       "        [0.53016821, 0.74283204, 0.93163907, 0.01381522],\n",
       "        [0.35228186, 0.47227326, 0.92846562, 0.70029553]]])"
      ]
     },
     "execution_count": 7,
     "metadata": {},
     "output_type": "execute_result"
    }
   ],
   "source": [
    "data"
   ]
  },
  {
   "cell_type": "code",
   "execution_count": 8,
   "id": "804a00ff-91af-4cbb-b0ca-88a908f6867c",
   "metadata": {
    "tags": []
   },
   "outputs": [],
   "source": [
    "z = np.zeros((2,2,2))"
   ]
  },
  {
   "cell_type": "code",
   "execution_count": 9,
   "id": "a6f04d8e-c8a9-4e91-97f7-8cc1fdbf85ea",
   "metadata": {
    "tags": []
   },
   "outputs": [
    {
     "data": {
      "text/plain": [
       "array([[[0., 0.],\n",
       "        [0., 0.]],\n",
       "\n",
       "       [[0., 0.],\n",
       "        [0., 0.]]])"
      ]
     },
     "execution_count": 9,
     "metadata": {},
     "output_type": "execute_result"
    }
   ],
   "source": [
    "z"
   ]
  },
  {
   "cell_type": "code",
   "execution_count": 10,
   "id": "30d04cc6-0f9a-4463-bb6c-23e1c13adb1d",
   "metadata": {
    "tags": []
   },
   "outputs": [],
   "source": [
    "f = np.full((2,2,2),7)"
   ]
  },
  {
   "cell_type": "code",
   "execution_count": 11,
   "id": "eaaa0486-fbcf-4e3a-95fd-4be3d4a3e64f",
   "metadata": {
    "tags": []
   },
   "outputs": [
    {
     "data": {
      "text/plain": [
       "array([[[7, 7],\n",
       "        [7, 7]],\n",
       "\n",
       "       [[7, 7],\n",
       "        [7, 7]]])"
      ]
     },
     "execution_count": 11,
     "metadata": {},
     "output_type": "execute_result"
    }
   ],
   "source": [
    "f"
   ]
  },
  {
   "cell_type": "code",
   "execution_count": 12,
   "id": "387b5cb3-48e8-48e3-80cd-130b5c089a9e",
   "metadata": {
    "tags": []
   },
   "outputs": [],
   "source": [
    "o = np.ones((2,2,2))"
   ]
  },
  {
   "cell_type": "code",
   "execution_count": 13,
   "id": "6e1f490f-ef4d-4c12-8e39-79d404124eed",
   "metadata": {
    "tags": []
   },
   "outputs": [
    {
     "data": {
      "text/plain": [
       "array([[[1., 1.],\n",
       "        [1., 1.]],\n",
       "\n",
       "       [[1., 1.],\n",
       "        [1., 1.]]])"
      ]
     },
     "execution_count": 13,
     "metadata": {},
     "output_type": "execute_result"
    }
   ],
   "source": [
    "o"
   ]
  },
  {
   "cell_type": "code",
   "execution_count": 14,
   "id": "e82dfe4e-121c-44d8-a504-644f082be954",
   "metadata": {
    "tags": []
   },
   "outputs": [],
   "source": [
    "# basic math\n",
    "list1 = np.random.rand(10)\n",
    "list2 = np.random.rand(10)\n"
   ]
  },
  {
   "cell_type": "code",
   "execution_count": 15,
   "id": "c57299c5-2704-41f6-a07a-58e905840c77",
   "metadata": {
    "tags": []
   },
   "outputs": [
    {
     "data": {
      "text/plain": [
       "array([0.68558738, 0.2001579 , 0.35637443, 0.15426647, 0.50492342,\n",
       "       0.54123497, 0.60582472, 0.98770517, 0.89491432, 0.49169091])"
      ]
     },
     "execution_count": 15,
     "metadata": {},
     "output_type": "execute_result"
    }
   ],
   "source": [
    "list1"
   ]
  },
  {
   "cell_type": "code",
   "execution_count": 16,
   "id": "03b96e03-49a5-4274-ba10-70b9d2599cb0",
   "metadata": {
    "tags": []
   },
   "outputs": [
    {
     "data": {
      "text/plain": [
       "array([0.61918958, 0.03838727, 0.21918174, 0.92886157, 0.86970353,\n",
       "       0.87898233, 0.33131449, 0.45433717, 0.51619295, 0.53600884])"
      ]
     },
     "execution_count": 16,
     "metadata": {},
     "output_type": "execute_result"
    }
   ],
   "source": [
    "list2"
   ]
  },
  {
   "cell_type": "code",
   "execution_count": 17,
   "id": "2bc28616-a4d6-46f2-9ae2-dcf0b2c91eca",
   "metadata": {
    "tags": []
   },
   "outputs": [],
   "source": [
    "# basic math array operations\n",
    "add = np.add(list1,list2)\n",
    "sub = np.subtract(list1,list2)\n",
    "div = np.divide(list1,list2)\n",
    "mul = np.multiply(list1,list2)\n",
    "dot = np.dot(list1,list2)"
   ]
  },
  {
   "cell_type": "code",
   "execution_count": 18,
   "id": "c6e69106-168c-48c8-9eda-3b7475f826ec",
   "metadata": {
    "tags": []
   },
   "outputs": [
    {
     "data": {
      "text/plain": [
       "array([1.30477696, 0.23854518, 0.57555616, 1.08312804, 1.37462695,\n",
       "       1.42021729, 0.93713922, 1.44204234, 1.41110727, 1.02769974])"
      ]
     },
     "execution_count": 18,
     "metadata": {},
     "output_type": "execute_result"
    }
   ],
   "source": [
    "add"
   ]
  },
  {
   "cell_type": "code",
   "execution_count": 19,
   "id": "425b765e-fcab-4160-a38b-17c56653506b",
   "metadata": {
    "tags": []
   },
   "outputs": [
    {
     "data": {
      "text/plain": [
       "array([ 0.06639781,  0.16177063,  0.13719269, -0.77459511, -0.36478011,\n",
       "       -0.33774736,  0.27451023,  0.533368  ,  0.37872138, -0.04431793])"
      ]
     },
     "execution_count": 19,
     "metadata": {},
     "output_type": "execute_result"
    }
   ],
   "source": [
    "sub"
   ]
  },
  {
   "cell_type": "code",
   "execution_count": 20,
   "id": "62569548-3a2b-41f2-9867-17a17a1cb33d",
   "metadata": {
    "tags": []
   },
   "outputs": [
    {
     "data": {
      "text/plain": [
       "array([1.10723341, 5.21417339, 1.62593122, 0.16608123, 0.58056959,\n",
       "       0.61575182, 1.8285488 , 2.17394755, 1.73368181, 0.91731866])"
      ]
     },
     "execution_count": 20,
     "metadata": {},
     "output_type": "execute_result"
    }
   ],
   "source": [
    "div"
   ]
  },
  {
   "cell_type": "code",
   "execution_count": 19,
   "id": "28ab9a5e-7ac3-434a-a175-45c50e93fe1b",
   "metadata": {
    "tags": []
   },
   "outputs": [
    {
     "data": {
      "text/plain": [
       "array([0.03225615, 0.38816885, 0.10391609, 0.05248753, 0.05055417,\n",
       "       0.22461806, 0.33158585, 0.6031554 , 0.0007595 , 0.19335968])"
      ]
     },
     "execution_count": 19,
     "metadata": {},
     "output_type": "execute_result"
    }
   ],
   "source": [
    "mul"
   ]
  },
  {
   "cell_type": "code",
   "execution_count": 21,
   "id": "13da272c-1d9e-436f-b52e-744b7eaec32a",
   "metadata": {
    "tags": []
   },
   "outputs": [
    {
     "data": {
      "text/plain": [
       "2.943433502756899"
      ]
     },
     "execution_count": 21,
     "metadata": {},
     "output_type": "execute_result"
    }
   ],
   "source": [
    "dot"
   ]
  },
  {
   "cell_type": "code",
   "execution_count": 22,
   "id": "08a88f6f-e8b2-4805-b081-8f10cb759165",
   "metadata": {},
   "outputs": [
    {
     "data": {
      "text/plain": [
       "2.943433502756899"
      ]
     },
     "execution_count": 22,
     "metadata": {},
     "output_type": "execute_result"
    }
   ],
   "source": [
    "dot"
   ]
  },
  {
   "cell_type": "code",
   "execution_count": 26,
   "id": "9d9dac3c-959c-4be6-8064-57b14fe4c591",
   "metadata": {
    "tags": []
   },
   "outputs": [],
   "source": [
    "#stat funstions\n",
    "sqrt = np.sqrt(25)\n",
    "ab = np.abs(-1)\n",
    "power = np.power(2,7)\n",
    "log = np.log(25)\n",
    "exp = np.exp([2,3])\n",
    "mins = np.min(list1)\n",
    "maxs  = np.max(list1)"
   ]
  },
  {
   "cell_type": "code",
   "execution_count": 27,
   "id": "c4651053-84e0-43e8-be4a-e53cea446e73",
   "metadata": {
    "tags": []
   },
   "outputs": [
    {
     "data": {
      "text/plain": [
       "5.0"
      ]
     },
     "execution_count": 27,
     "metadata": {},
     "output_type": "execute_result"
    }
   ],
   "source": [
    "sqrt"
   ]
  },
  {
   "cell_type": "code",
   "execution_count": 28,
   "id": "76e29554-8d54-4217-b93f-77b10d4217dd",
   "metadata": {
    "tags": []
   },
   "outputs": [
    {
     "data": {
      "text/plain": [
       "1"
      ]
     },
     "execution_count": 28,
     "metadata": {},
     "output_type": "execute_result"
    }
   ],
   "source": [
    "ab"
   ]
  },
  {
   "cell_type": "code",
   "execution_count": 29,
   "id": "315f64b3-852b-4d56-a8ce-022576254c58",
   "metadata": {
    "tags": []
   },
   "outputs": [
    {
     "data": {
      "text/plain": [
       "128"
      ]
     },
     "execution_count": 29,
     "metadata": {},
     "output_type": "execute_result"
    }
   ],
   "source": [
    "power"
   ]
  },
  {
   "cell_type": "code",
   "execution_count": null,
   "id": "a484888f-0a11-4ef4-b544-b8d1397b0b7b",
   "metadata": {},
   "outputs": [],
   "source": []
  }
 ],
 "metadata": {
  "kernelspec": {
   "display_name": "Python 3 (ipykernel)",
   "language": "python",
   "name": "python3"
  },
  "language_info": {
   "codemirror_mode": {
    "name": "ipython",
    "version": 3
   },
   "file_extension": ".py",
   "mimetype": "text/x-python",
   "name": "python",
   "nbconvert_exporter": "python",
   "pygments_lexer": "ipython3",
   "version": "3.10.10"
  }
 },
 "nbformat": 4,
 "nbformat_minor": 5
}
